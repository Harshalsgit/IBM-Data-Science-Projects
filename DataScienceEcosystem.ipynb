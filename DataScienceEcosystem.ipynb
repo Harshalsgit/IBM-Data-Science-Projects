{
 "cells": [
  {
   "cell_type": "markdown",
   "id": "c9d02b05",
   "metadata": {},
   "source": [
    "# Data Science Tools and Ecosystem"
   ]
  },
  {
   "cell_type": "markdown",
   "id": "bc50aa9b",
   "metadata": {},
   "source": [
    "In this notebook, Data Science Tools and Ecosystem are summarized."
   ]
  },
  {
   "cell_type": "markdown",
   "id": "f9af4bc0",
   "metadata": {},
   "source": [
    "**Objectives:**\n",
    "- List Popular Languages for Data Science  \n",
    "- List Popular Tools for Data Science\n",
    "- List Popular Environments for Data Science\n",
    "- List Popular Libraries for Data Science\n",
    "- Perform Simple Arithmetic operations in Jupyter Notebook"
   ]
  },
  {
   "cell_type": "markdown",
   "id": "97e4cba8",
   "metadata": {},
   "source": [
    "Some of the popular languages that Data Scientists use are :  \n",
    "1.Python  \n",
    "2.R  \n",
    "3.Scala  \n",
    "4.Julia"
   ]
  },
  {
   "cell_type": "markdown",
   "id": "1b9ac005",
   "metadata": {},
   "source": [
    "\n",
    "Some of the commonly used libraries used by Data Scientists include:  \n",
    "1.Matplotlib  \n",
    "2.Scikitlearn  \n",
    "3.Seaborn  \n",
    "4.Pandas  \n",
    "5.TensorFlow"
   ]
  },
  {
   "cell_type": "markdown",
   "id": "551959bc",
   "metadata": {},
   "source": [
    "| **Data Science Tools**|\n",
    "| ----- |\n",
    "| JupyterLab |\n",
    "| GitHub |\n",
    "| RStudio|"
   ]
  },
  {
   "cell_type": "markdown",
   "id": "a811c46d",
   "metadata": {},
   "source": [
    "### Below are a few examples of evaluating arithmetic expressions in Python"
   ]
  },
  {
   "cell_type": "code",
   "execution_count": 1,
   "id": "3cf67b62",
   "metadata": {},
   "outputs": [
    {
     "data": {
      "text/plain": [
       "17"
      ]
     },
     "execution_count": 1,
     "metadata": {},
     "output_type": "execute_result"
    }
   ],
   "source": [
    "#This a simple arithmetic expression to mutiply then add integers\n",
    "(3*4)+5"
   ]
  },
  {
   "cell_type": "code",
   "execution_count": 3,
   "id": "51a7468b",
   "metadata": {},
   "outputs": [
    {
     "name": "stdout",
     "output_type": "stream",
     "text": [
      "please enter the no. of minutes to be converted to hours: 200\n",
      "3.3333333333333335\n"
     ]
    }
   ],
   "source": [
    "#This will convert 200 minutes to hours by diving by 60\n",
    "x=float(input(\"please enter the no. of minutes to be converted to hours: \"))\n",
    "y=(x/60)\n",
    "print(y)"
   ]
  },
  {
   "cell_type": "markdown",
   "id": "43448a76",
   "metadata": {},
   "source": [
    "## Author\n",
    "Harshal Patil\n"
   ]
  },
  {
   "cell_type": "code",
   "execution_count": null,
   "id": "272fb4db",
   "metadata": {},
   "outputs": [],
   "source": []
  }
 ],
 "metadata": {
  "kernelspec": {
   "display_name": "Python 3 (ipykernel)",
   "language": "python",
   "name": "python3"
  },
  "language_info": {
   "codemirror_mode": {
    "name": "ipython",
    "version": 3
   },
   "file_extension": ".py",
   "mimetype": "text/x-python",
   "name": "python",
   "nbconvert_exporter": "python",
   "pygments_lexer": "ipython3",
   "version": "3.11.4"
  }
 },
 "nbformat": 4,
 "nbformat_minor": 5
}
